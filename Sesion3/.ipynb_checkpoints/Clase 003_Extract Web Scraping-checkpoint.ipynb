{
 "cells": [
  {
   "cell_type": "markdown",
   "metadata": {},
   "source": [
    "\n",
    "<img src=\"https://fotos.subefotos.com/bfa0edacd915cdc7de8ee4a357071610o.png\" style = \"width: 150px; height: auto; margin-left:auto;margin-right:auto\"/>\n",
    "<img src=\"https://fotos.subefotos.com/2a13aea56c4bf96860ed297b29abc189o.png\" style = \"width: 750px; height: auto; margin-left: auto; margin-right: auto;margin-top:0 \"/>\n"
   ]
  },
  {
   "cell_type": "markdown",
   "metadata": {},
   "source": [
    "# Extract - Web Scraping"
   ]
  },
  {
   "cell_type": "markdown",
   "metadata": {},
   "source": [
    "Conociendo la web, tenemos que recordar la diferencia entre HTML, CSS y JavaScript"
   ]
  },
  {
   "cell_type": "markdown",
   "metadata": {},
   "source": [
    "<img src=\"https://brytdesigns.com/wp-content/uploads/2019/12/html_css_javascript_infographic.png\" alt=\"drawing\" width=\"500\"/>"
   ]
  },
  {
   "cell_type": "markdown",
   "metadata": {},
   "source": [
    "En conclusión lo que nos va a importar más será la semi estructura de los datos que nos proporciona HTML. \n",
    "\n",
    "Vamos a crear nuestra primer solicitud web  l sitio [El unviersal](https://www.eluniversal.com.mx) desde Python utilizando la librería **requests**"
   ]
  },
  {
   "cell_type": "code",
   "execution_count": 4,
   "metadata": {},
   "outputs": [],
   "source": [
    "import requests"
   ]
  },
  {
   "cell_type": "markdown",
   "metadata": {},
   "source": [
    "**requests.get()** hace una solicitud web"
   ]
  },
  {
   "cell_type": "code",
   "execution_count": 5,
   "metadata": {},
   "outputs": [],
   "source": [
    "request = requests.get('https://www.eluniversal.com.mx')"
   ]
  },
  {
   "cell_type": "markdown",
   "metadata": {},
   "source": [
    "Siempre que estemos trabajando con una librería nueva, es buena práctica echarle un ojo a la [documentación](https://requests.readthedocs.io/en/master/) pero siempre se tiene la opción de ver los métodos que la acompañan:"
   ]
  },
  {
   "cell_type": "code",
   "execution_count": 6,
   "metadata": {},
   "outputs": [
    {
     "data": {
      "text/plain": [
       "\u001b[1;31mType:\u001b[0m        Response\n",
       "\u001b[1;31mString form:\u001b[0m <Response [200]>\n",
       "\u001b[1;31mFile:\u001b[0m        c:\\users\\wordl\\anaconda3\\lib\\site-packages\\requests\\models.py\n",
       "\u001b[1;31mDocstring:\u001b[0m  \n",
       "The :class:`Response <Response>` object, which contains a\n",
       "server's response to an HTTP request.\n"
      ]
     },
     "metadata": {},
     "output_type": "display_data"
    }
   ],
   "source": [
    "request?"
   ]
  },
  {
   "cell_type": "code",
   "execution_count": 7,
   "metadata": {},
   "outputs": [
    {
     "name": "stdout",
     "output_type": "stream",
     "text": [
      "['__attrs__', '__bool__', '__class__', '__delattr__', '__dict__', '__dir__', '__doc__', '__enter__', '__eq__', '__exit__', '__format__', '__ge__', '__getattribute__', '__getstate__', '__gt__', '__hash__', '__init__', '__init_subclass__', '__iter__', '__le__', '__lt__', '__module__', '__ne__', '__new__', '__nonzero__', '__reduce__', '__reduce_ex__', '__repr__', '__setattr__', '__setstate__', '__sizeof__', '__str__', '__subclasshook__', '__weakref__', '_content', '_content_consumed', '_next', 'apparent_encoding', 'close', 'connection', 'content', 'cookies', 'elapsed', 'encoding', 'headers', 'history', 'is_permanent_redirect', 'is_redirect', 'iter_content', 'iter_lines', 'json', 'links', 'next', 'ok', 'raise_for_status', 'raw', 'reason', 'request', 'status_code', 'text', 'url']\n"
     ]
    }
   ],
   "source": [
    "print(dir(request))"
   ]
  },
  {
   "cell_type": "markdown",
   "metadata": {},
   "source": [
    "Vemos que nuestro objeto trae el atributo **status_code** el cual nos permitirá ver el estado de la respuesta arrojada por el servidor"
   ]
  },
  {
   "cell_type": "code",
   "execution_count": 8,
   "metadata": {},
   "outputs": [
    {
     "data": {
      "text/plain": [
       "200"
      ]
     },
     "execution_count": 8,
     "metadata": {},
     "output_type": "execute_result"
    }
   ],
   "source": [
    "request.status_code"
   ]
  },
  {
   "cell_type": "markdown",
   "metadata": {},
   "source": [
    "<img src=\"https://miro.medium.com/max/700/1*w_iicbG7L3xEQTArjHUS6g.jpeg\" alt=\"drawing\" width=\"500\"/>"
   ]
  },
  {
   "cell_type": "markdown",
   "metadata": {},
   "source": [
    "Podemos ver los metadatos que nos devolvio el servidor:"
   ]
  },
  {
   "cell_type": "code",
   "execution_count": 9,
   "metadata": {},
   "outputs": [
    {
     "data": {
      "text/plain": [
       "{'Date': 'Tue, 20 Oct 2020 15:48:12 GMT', 'Content-Type': 'text/html; charset=utf-8', 'Transfer-Encoding': 'chunked', 'Connection': 'keep-alive', 'Set-Cookie': '__cfduid=d043299b9f7c748aee4d445d875caa6201603208892; expires=Thu, 19-Nov-20 15:48:12 GMT; path=/; domain=.eluniversal.com.mx; HttpOnly; SameSite=Lax; Secure, __cfruid=5b3c06243208f2a82d46435988a6119b2fbd810a-1603208892; path=/; domain=.eluniversal.com.mx; HttpOnly; Secure; SameSite=None', 'X-Content-Type-Options': 'nosniff', 'X-Powered-By': 'PHP/5.6.40', 'X-Drupal-Cache': 'HIT', 'Content-Language': 'es', 'X-Frame-Options': 'SAMEORIGIN', 'X-Generator': 'Drupal 7 (http://drupal.org)', 'Link': '<http://www.eluniversal.com.mx/sites/all/themes/universal/images/default600x315px.jpg>; rel=\"image_src\",<https://www.eluniversal.com.mx/>; rel=\"canonical\",<https://www.eluniversal.com.mx/>; rel=\"shortlink\"', 'Cache-Control': 'public, max-age=600', 'Last-Modified': 'Tue, 20 Oct 2020 15:46:56 GMT', 'Expires': 'Tue, 20 Oct 2020 15:58:12 GMT', 'Vary': 'Cookie,Accept-Encoding', 'Access-Control-Allow-Origin': '*', 'Level': '2F-BETA:80', 'CF-Cache-Status': 'HIT', 'Age': '29', 'cf-request-id': '05e84b68510000ec32c8ab7000000001', 'Expect-CT': 'max-age=604800, report-uri=\"https://report-uri.cloudflare.com/cdn-cgi/beacon/expect-ct\"', 'Server': 'cloudflare', 'CF-RAY': '5e53e1ba18dbec32-MFE', 'Content-Encoding': 'gzip'}"
      ]
     },
     "execution_count": 9,
     "metadata": {},
     "output_type": "execute_result"
    }
   ],
   "source": [
    "request.headers"
   ]
  },
  {
   "cell_type": "markdown",
   "metadata": {},
   "source": [
    "Pero lo que nos importa es el contenido HTML de la respuesta, para eso ocuamos **text**"
   ]
  },
  {
   "cell_type": "code",
   "execution_count": 10,
   "metadata": {},
   "outputs": [
    {
     "data": {
      "text/plain": [
       "'\\n<!DOCTYPE html PUBLIC \"-//W3C//DTD XHTML+RDFa 1.0//EN\"\\n  \"http://www.w3.org/MarkUp/DTD/xhtml-rdfa-1.dtd\">\\n<html xmlns=\"http://www.w3.org/1999/xhtml\" xml:lang=\"es\" version=\"XHTML+RDFa 1.0\" dir=\"ltr\" xmlns:og=\"http://ogp.me/ns#\" xmlns:article=\"http://ogp.me/ns/article#\" xmlns:book=\"http://ogp.me/ns/book#\" xmlns:profile=\"http://ogp.me/ns/profile#\" xmlns:video=\"http://ogp.me/ns/video#\">\\n<head profile=\"http://www.w3.org/1999/xhtml/vocab\">\\n<meta http-equiv=\\'x-dns-prefetch-control\\' content=\\'on\\'>\\n<meta property=\"fb:app_id\" content=\"163316950407128\" />\\n<link rel=\"preload\" href=\"https://fonts.googleapis.com&display=swap\" />\\n<link rel=\"preload\" href=\"https://fonts.gstatic.com&display=swap\" />\\n<link rel=\"preconnect\" href=\"https://use.fontawesome.com/\" crossorigin />\\n<link rel=\"dns-prefetch\" href=\"https://use.fontawesome.com/\" />\\n<link rel=\"preconnect\" href=\"https://connect.facebook.net/\" crossorigin />\\n<link rel=\"dns-prefetch\" href=\"https://connect.facebook.net/\" />\\n<link rel=\"preconnect\" href=\"https://assets.adobedtm.com/\" crossorigin />\\n<link rel=\"dns-prefetch\" href=\"https://assets.adobedtm.com/\" />\\n<link rel=\"preconnect\" href=\"https://fonts.googleapis.com/\" crossorigin />\\n<link rel=\"dns-prefetch\" href=\"https://fonts.googleapis.com/\" />\\n<link rel=\"preconnect\" href=\"https://cdnjs.cloudflare.com/\" crossorigin />\\n<link rel=\"dns-prefetch\" href=\"https://cdnjs.cloudflare.com/\" />\\n<link rel=\"preconnect\" href=\"https://cdn.taboola.com/\" crossorigin />\\n<link rel=\"dns-prefetch\" href=\"https://cdn.taboola.com/\" />\\n<link rel=\"preconnect\" href=\"https://sb.scorecardresearch.com/\" crossorigin />\\n<link rel=\"dns-prefetch\" href=\"https://sb.scorecardresearch.com/\" />\\n<link rel=\"preconnect\" href=\"https://a.teads.tv/\" crossorigin />\\n<link rel=\"dns-prefetch\" href=\"https://a.teads.tv/\" />\\n<link rel=\"preconnect\" href=\"https://tags.bkrtx.com/\" crossorigin />\\n<link rel=\"dns-prefetch\" href=\"https://tags.bkrtx.com/\" />\\n<link rel=\"preconnect\" href=\"https://news.files.bbci.co.uk/\" crossorigin />\\n<link rel=\"dns-prefetch\" href=\"https://news.files.bbci.co.uk/\" />\\n<link rel=\"preconnect\" href=\"https://platform.twitter.com/\" crossorigin />\\n<link rel=\"dns-prefetch\" href=\"https://platform.twitter.com/\" />\\n<link rel=\"preconnect\" href=\"https://config.seedtag.com/\" crossorigin />\\n<link rel=\"dns-prefetch\" href=\"https://config.seedtag.com/\" />\\n<link rel=\"preconnect\" href=\"https://middycdn-a.akamaihd.net/\" crossorigin />\\n<link rel=\"dns-prefetch\" href=\"https://middycdn-a.akamaihd.net/\" />\\n<link rel=\"preconnect\" href=\"https://api.eluniversal.com.mx/\" crossorigin />\\n<link rel=\"dns-prefetch\" href=\"https://api.eluniversal.com.mx/\" />\\n<link rel=\"preconnect\" href=\"https://www.google.com/\" crossorigin />\\n<link rel=\"dns-prefetch\" href=\"https://www.google.com/\" />\\n<link rel=\"preconnect\" href=\"https://fonts.gstatic.com/\" crossorigin />\\n<link rel=\"dns-prefetch\" href=\"https://fonts.gstatic.com/\" />\\n<link rel=\"preconnect\" href=\"https://eluniversal.pressreader.com/\" crossorigin />\\n<link rel=\"dns-prefetch\" href=\"https://eluniversal.pressreader.com/\" />\\n<link rel=\"preconnect\" href=\"https://micuenta.eluniversal.com.mx/\" crossorigin />\\n<link rel=\"dns-prefetch\" href=\"https://micuenta.eluniversal.com.mx/\" />\\n<link rel=\"preconnect\" href=\"https://www.avisooportuno.mx/\" crossorigin />\\n<link rel=\"dns-prefetch\" href=\"https://www.avisooportuno.mx/\" />\\n<link rel=\"preconnect\" href=\"https://www.gstatic.com/\" crossorigin />\\n<link rel=\"dns-prefetch\" href=\"https://www.gstatic.com/\" />\\n<link rel=\"preconnect\" href=\"https://ajax.googleapis.com/\" crossorigin />\\n<link rel=\"dns-prefetch\" href=\"https://ajax.googleapis.com/\" />\\n<link rel=\"preconnect\" href=\"https://www.eluniversalvideo.com.mx/\" crossorigin />\\n<link rel=\"dns-prefetch\" href=\"https://www.eluniversalvideo.com.mx/\" />\\n<link rel=\"preconnect\" href=\"https://s7.addthis.com/\" crossorigin />\\n<link rel=\"dns-prefetch\" href=\"https://s7.addthis.com/\" />\\n<link rel=\"preconnect\" href=\"https://newsletter.eluniversal.com.mx/\" crossorigin />\\n<link rel=\"dns-prefetch\" href=\"https://newsletter.eluniversal.com.mx/\" />\\n<link rel=\"preconnect\" href=\"https://static.chartbeat.com/\" crossorigin />\\n<link rel=\"dns-prefetch\" href=\"https://static.chartbeat.com/\" />\\n<link rel=\"preconnect\" href=\"https://www.googletagservices.com/\" crossorigin />\\n<link rel=\"dns-prefetch\" href=\"https://www.googletagservices.com/\" />\\n<link rel=\"preconnect\" href=\"https://www.google-analytics.com/\" crossorigin />\\n<link rel=\"dns-prefetch\" href=\"https://www.google-analytics.com/\" />\\n<link rel=\"preconnect\" href=\"https://widget.perfectmarket.com/\" crossorigin />\\n<link rel=\"dns-prefetch\" href=\"https://widget.perfectmarket.com/\" />\\n<link rel=\"preconnect\" href=\"https://d.turn.com/\" crossorigin />\\n<link rel=\"dns-prefetch\" href=\"https://d.turn.com/\" />\\n<link rel=\"preconnect\" href=\"https://prebid-us.creativecdn.com/\" crossorigin />\\n<link rel=\"dns-prefetch\" href=\"https://prebid-us.creativecdn.com/\" />\\n<link rel=\"preconnect\" href=\"https://cds.taboola.com/\" crossorigin />\\n<link rel=\"dns-prefetch\" href=\"htt'"
      ]
     },
     "execution_count": 10,
     "metadata": {},
     "output_type": "execute_result"
    }
   ],
   "source": [
    "request.text[0:5000] #Hice slicing para ver poco, de lo contrario se saturaría el output"
   ]
  },
  {
   "cell_type": "markdown",
   "metadata": {},
   "source": [
    "**request.text** es un string que contiene todo el html de la página, nosotros podríamos hacer *text mining* directamente sobre ese string, pero hay una librería que nos detecta las etiquetas y nos facilita buscarlas"
   ]
  },
  {
   "cell_type": "code",
   "execution_count": 11,
   "metadata": {},
   "outputs": [],
   "source": [
    "from bs4 import BeautifulSoup"
   ]
  },
  {
   "cell_type": "markdown",
   "metadata": {},
   "source": [
    "Nosotros le vamos a pasar a BeuaituflSoup el texto de la respuesta y un parámetro mas, que será el tipo de respuesta que nosotros recibimos **html** y le agregamos su \"atributo\" analizador (parser)"
   ]
  },
  {
   "cell_type": "code",
   "execution_count": 12,
   "metadata": {},
   "outputs": [],
   "source": [
    "soup = BeautifulSoup(request.text,'html.parser')"
   ]
  },
  {
   "cell_type": "markdown",
   "metadata": {},
   "source": [
    "Ahora ya tenemos nuestro html bien etiquetado listo para realizar búsquedas"
   ]
  },
  {
   "cell_type": "code",
   "execution_count": 13,
   "metadata": {},
   "outputs": [
    {
     "name": "stdout",
     "output_type": "stream",
     "text": [
      "<title>El Universal | El periódico de México líder en noticias y clasificados</title>\n"
     ]
    }
   ],
   "source": [
    "print(soup.title)"
   ]
  },
  {
   "cell_type": "markdown",
   "metadata": {},
   "source": [
    "Podemos ver que nos regresa toda la etiqueta completa, pero si nosotros nadamás queremos el texto de esa etiqueta utilizamos el atributo *.text*"
   ]
  },
  {
   "cell_type": "code",
   "execution_count": 14,
   "metadata": {},
   "outputs": [
    {
     "name": "stdout",
     "output_type": "stream",
     "text": [
      "El Universal | El periódico de México líder en noticias y clasificados\n"
     ]
    }
   ],
   "source": [
    "print(soup.title.text)"
   ]
  },
  {
   "cell_type": "markdown",
   "metadata": {},
   "source": [
    "Utilizamos el método **select()** para encontrar etiquetas con los atributos *id* o *class*. Recuerda, para hacer referencia a una clase utilizamos un punto antes del nombre, y un signo de numeral para id"
   ]
  },
  {
   "cell_type": "code",
   "execution_count": 19,
   "metadata": {},
   "outputs": [
    {
     "name": "stdout",
     "output_type": "stream",
     "text": [
      "[<img alt=\"\" class=\"logo\" src=\"/sites/all/themes/eluniversal/images/logo-el-universal.svg\"/>, <img alt=\"\" class=\"logo\" src=\"/sites/all/themes/eluniversal/images/logo-el-universal-blanco.png\"/>]\n"
     ]
    }
   ],
   "source": [
    "print(soup.select('.logo'))"
   ]
  },
  {
   "cell_type": "markdown",
   "metadata": {},
   "source": [
    "## Actividad 1\n",
    "\n",
    "Busca los encabezados de las noticias utilizando *inspeccionar elemento* en la [página](https://www.eluniversal.com.mx). Después utiliza sus atributos para buscarlos con *select()*"
   ]
  },
  {
   "cell_type": "code",
   "execution_count": null,
   "metadata": {},
   "outputs": [],
   "source": []
  }
 ],
 "metadata": {
  "kernelspec": {
   "display_name": "Python 3",
   "language": "python",
   "name": "python3"
  },
  "language_info": {
   "codemirror_mode": {
    "name": "ipython",
    "version": 3
   },
   "file_extension": ".py",
   "mimetype": "text/x-python",
   "name": "python",
   "nbconvert_exporter": "python",
   "pygments_lexer": "ipython3",
   "version": "3.8.3"
  }
 },
 "nbformat": 4,
 "nbformat_minor": 4
}
