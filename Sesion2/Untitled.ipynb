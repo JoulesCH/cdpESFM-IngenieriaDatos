{
 "cells": [
  {
   "cell_type": "code",
   "execution_count": 3,
   "metadata": {},
   "outputs": [],
   "source": [
    "import pandas as pd"
   ]
  },
  {
   "cell_type": "code",
   "execution_count": 4,
   "metadata": {},
   "outputs": [],
   "source": [
    "url = 'https://drive.google.com/u/0/uc?id=1kD_8IFNx00j4vENmj1hYqz0Sm34V5Ml0&export=download'"
   ]
  },
  {
   "cell_type": "code",
   "execution_count": 5,
   "metadata": {},
   "outputs": [
    {
     "data": {
      "text/html": [
       "<div>\n",
       "<style scoped>\n",
       "    .dataframe tbody tr th:only-of-type {\n",
       "        vertical-align: middle;\n",
       "    }\n",
       "\n",
       "    .dataframe tbody tr th {\n",
       "        vertical-align: top;\n",
       "    }\n",
       "\n",
       "    .dataframe thead th {\n",
       "        text-align: right;\n",
       "    }\n",
       "</style>\n",
       "<table border=\"1\" class=\"dataframe\">\n",
       "  <thead>\n",
       "    <tr style=\"text-align: right;\">\n",
       "      <th></th>\n",
       "      <th>Grupo</th>\n",
       "      <th>Descripción</th>\n",
       "      <th>Profesor</th>\n",
       "      <th>Lunes</th>\n",
       "      <th>Martes</th>\n",
       "      <th>Miercoles</th>\n",
       "      <th>Jueves</th>\n",
       "      <th>Viernes</th>\n",
       "      <th>Edificio</th>\n",
       "      <th>Salón</th>\n",
       "    </tr>\n",
       "  </thead>\n",
       "  <tbody>\n",
       "    <tr>\n",
       "      <th>0</th>\n",
       "      <td>3MM1</td>\n",
       "      <td>ALGEBRA III</td>\n",
       "      <td>CRUZ RAMIREZ JOEL</td>\n",
       "      <td>NaN</td>\n",
       "      <td>8:00-9:30</td>\n",
       "      <td>NaN</td>\n",
       "      <td>8:00-9:30</td>\n",
       "      <td>8:00-9:30</td>\n",
       "      <td>Z</td>\n",
       "      <td>Z-203</td>\n",
       "    </tr>\n",
       "    <tr>\n",
       "      <th>1</th>\n",
       "      <td>3MM1</td>\n",
       "      <td>ECONOMIA</td>\n",
       "      <td>ROBLES CONTRERAS GABRIEL</td>\n",
       "      <td>NaN</td>\n",
       "      <td>11:00-12:30</td>\n",
       "      <td>NaN</td>\n",
       "      <td>11:00-12:30</td>\n",
       "      <td>NaN</td>\n",
       "      <td>Z</td>\n",
       "      <td>Z-203</td>\n",
       "    </tr>\n",
       "    <tr>\n",
       "      <th>2</th>\n",
       "      <td>3MM2</td>\n",
       "      <td>ECS. DIFERENCIALES ORD. I</td>\n",
       "      <td>JUAREZ VELAZQUEZ JUAN MANUEL</td>\n",
       "      <td>8:00-9:30</td>\n",
       "      <td>NaN</td>\n",
       "      <td>8:00-9:30</td>\n",
       "      <td>NaN</td>\n",
       "      <td>9:30-11:00</td>\n",
       "      <td>Z</td>\n",
       "      <td>Z-203</td>\n",
       "    </tr>\n",
       "    <tr>\n",
       "      <th>3</th>\n",
       "      <td>3MM2</td>\n",
       "      <td>METODOS NUMERICOS I</td>\n",
       "      <td>MORENO MUÑOZ CARLOS ALEJANDRO</td>\n",
       "      <td>12:30-14:00</td>\n",
       "      <td>NaN</td>\n",
       "      <td>12:30-14:00</td>\n",
       "      <td>NaN</td>\n",
       "      <td>12:30-14:00</td>\n",
       "      <td>Z</td>\n",
       "      <td>Z-203</td>\n",
       "    </tr>\n",
       "    <tr>\n",
       "      <th>4</th>\n",
       "      <td>3MM2</td>\n",
       "      <td>CALCULO III</td>\n",
       "      <td>VILLANUEVA LOPEZ JORGE RUBEN</td>\n",
       "      <td>9:30-11:00</td>\n",
       "      <td>NaN</td>\n",
       "      <td>9:30-11:00</td>\n",
       "      <td>9:30-11:00</td>\n",
       "      <td>NaN</td>\n",
       "      <td>Z</td>\n",
       "      <td>Z-203</td>\n",
       "    </tr>\n",
       "  </tbody>\n",
       "</table>\n",
       "</div>"
      ],
      "text/plain": [
       "  Grupo                Descripción                       Profesor  \\\n",
       "0  3MM1                ALGEBRA III              CRUZ RAMIREZ JOEL   \n",
       "1  3MM1                   ECONOMIA       ROBLES CONTRERAS GABRIEL   \n",
       "2  3MM2  ECS. DIFERENCIALES ORD. I   JUAREZ VELAZQUEZ JUAN MANUEL   \n",
       "3  3MM2        METODOS NUMERICOS I  MORENO MUÑOZ CARLOS ALEJANDRO   \n",
       "4  3MM2                CALCULO III   VILLANUEVA LOPEZ JORGE RUBEN   \n",
       "\n",
       "         Lunes       Martes    Miercoles       Jueves      Viernes Edificio  \\\n",
       "0          NaN    8:00-9:30          NaN    8:00-9:30    8:00-9:30        Z   \n",
       "1          NaN  11:00-12:30          NaN  11:00-12:30          NaN        Z   \n",
       "2    8:00-9:30          NaN    8:00-9:30          NaN   9:30-11:00        Z   \n",
       "3  12:30-14:00          NaN  12:30-14:00          NaN  12:30-14:00        Z   \n",
       "4   9:30-11:00          NaN   9:30-11:00   9:30-11:00          NaN        Z   \n",
       "\n",
       "   Salón  \n",
       "0  Z-203  \n",
       "1  Z-203  \n",
       "2  Z-203  \n",
       "3  Z-203  \n",
       "4  Z-203  "
      ]
     },
     "execution_count": 5,
     "metadata": {},
     "output_type": "execute_result"
    }
   ],
   "source": [
    "df = pd.read_excel(url) #Se utiliza df por convención para denotar Data Frames\n",
    "df"
   ]
  },
  {
   "cell_type": "code",
   "execution_count": 6,
   "metadata": {},
   "outputs": [
    {
     "data": {
      "text/plain": [
       "{'Grupo': {0: '3MM1', 1: '3MM1', 2: '3MM2', 3: '3MM2', 4: '3MM2'},\n",
       " 'Descripción': {0: 'ALGEBRA III',\n",
       "  1: 'ECONOMIA',\n",
       "  2: 'ECS. DIFERENCIALES ORD. I',\n",
       "  3: 'METODOS NUMERICOS I',\n",
       "  4: 'CALCULO III'},\n",
       " 'Profesor': {0: 'CRUZ RAMIREZ JOEL',\n",
       "  1: 'ROBLES CONTRERAS GABRIEL',\n",
       "  2: 'JUAREZ VELAZQUEZ JUAN MANUEL',\n",
       "  3: 'MORENO MUÑOZ CARLOS ALEJANDRO',\n",
       "  4: 'VILLANUEVA LOPEZ JORGE RUBEN'},\n",
       " 'Lunes': {0: nan, 1: nan, 2: '8:00-9:30', 3: '12:30-14:00', 4: '9:30-11:00'},\n",
       " 'Martes': {0: '8:00-9:30', 1: '11:00-12:30', 2: nan, 3: nan, 4: nan},\n",
       " 'Miercoles': {0: nan,\n",
       "  1: nan,\n",
       "  2: '8:00-9:30',\n",
       "  3: '12:30-14:00',\n",
       "  4: '9:30-11:00'},\n",
       " 'Jueves': {0: '8:00-9:30', 1: '11:00-12:30', 2: nan, 3: nan, 4: '9:30-11:00'},\n",
       " 'Viernes': {0: '8:00-9:30',\n",
       "  1: nan,\n",
       "  2: '9:30-11:00',\n",
       "  3: '12:30-14:00',\n",
       "  4: nan},\n",
       " 'Edificio': {0: 'Z', 1: 'Z', 2: 'Z', 3: 'Z', 4: 'Z'},\n",
       " 'Salón': {0: 'Z-203', 1: 'Z-203', 2: 'Z-203', 3: 'Z-203', 4: 'Z-203'}}"
      ]
     },
     "execution_count": 6,
     "metadata": {},
     "output_type": "execute_result"
    }
   ],
   "source": [
    "df.to_dict()"
   ]
  },
  {
   "cell_type": "code",
   "execution_count": 8,
   "metadata": {},
   "outputs": [],
   "source": [
    "import numpy as np"
   ]
  },
  {
   "cell_type": "code",
   "execution_count": 9,
   "metadata": {},
   "outputs": [],
   "source": [
    "df['Lunes'] = ['9:00-10:30', np.nan, '8:00-9:30','12:30-14:00','9:30-11:00']\n",
    "df['Miercoles'] = ['12:00-13:30', np.nan, '8:00-9:30','12:30-14:00','9:30-11:00']"
   ]
  },
  {
   "cell_type": "code",
   "execution_count": 10,
   "metadata": {},
   "outputs": [
    {
     "data": {
      "text/html": [
       "<div>\n",
       "<style scoped>\n",
       "    .dataframe tbody tr th:only-of-type {\n",
       "        vertical-align: middle;\n",
       "    }\n",
       "\n",
       "    .dataframe tbody tr th {\n",
       "        vertical-align: top;\n",
       "    }\n",
       "\n",
       "    .dataframe thead th {\n",
       "        text-align: right;\n",
       "    }\n",
       "</style>\n",
       "<table border=\"1\" class=\"dataframe\">\n",
       "  <thead>\n",
       "    <tr style=\"text-align: right;\">\n",
       "      <th></th>\n",
       "      <th>Grupo</th>\n",
       "      <th>Descripción</th>\n",
       "      <th>Profesor</th>\n",
       "      <th>Lunes</th>\n",
       "      <th>Martes</th>\n",
       "      <th>Miercoles</th>\n",
       "      <th>Jueves</th>\n",
       "      <th>Viernes</th>\n",
       "      <th>Edificio</th>\n",
       "      <th>Salón</th>\n",
       "    </tr>\n",
       "  </thead>\n",
       "  <tbody>\n",
       "    <tr>\n",
       "      <th>0</th>\n",
       "      <td>3MM1</td>\n",
       "      <td>ALGEBRA III</td>\n",
       "      <td>CRUZ RAMIREZ JOEL</td>\n",
       "      <td>9:00-10:30</td>\n",
       "      <td>8:00-9:30</td>\n",
       "      <td>12:00-13:30</td>\n",
       "      <td>8:00-9:30</td>\n",
       "      <td>8:00-9:30</td>\n",
       "      <td>Z</td>\n",
       "      <td>Z-203</td>\n",
       "    </tr>\n",
       "    <tr>\n",
       "      <th>1</th>\n",
       "      <td>3MM1</td>\n",
       "      <td>ECONOMIA</td>\n",
       "      <td>ROBLES CONTRERAS GABRIEL</td>\n",
       "      <td>NaN</td>\n",
       "      <td>11:00-12:30</td>\n",
       "      <td>NaN</td>\n",
       "      <td>11:00-12:30</td>\n",
       "      <td>NaN</td>\n",
       "      <td>Z</td>\n",
       "      <td>Z-203</td>\n",
       "    </tr>\n",
       "    <tr>\n",
       "      <th>2</th>\n",
       "      <td>3MM2</td>\n",
       "      <td>ECS. DIFERENCIALES ORD. I</td>\n",
       "      <td>JUAREZ VELAZQUEZ JUAN MANUEL</td>\n",
       "      <td>8:00-9:30</td>\n",
       "      <td>NaN</td>\n",
       "      <td>8:00-9:30</td>\n",
       "      <td>NaN</td>\n",
       "      <td>9:30-11:00</td>\n",
       "      <td>Z</td>\n",
       "      <td>Z-203</td>\n",
       "    </tr>\n",
       "    <tr>\n",
       "      <th>3</th>\n",
       "      <td>3MM2</td>\n",
       "      <td>METODOS NUMERICOS I</td>\n",
       "      <td>MORENO MUÑOZ CARLOS ALEJANDRO</td>\n",
       "      <td>12:30-14:00</td>\n",
       "      <td>NaN</td>\n",
       "      <td>12:30-14:00</td>\n",
       "      <td>NaN</td>\n",
       "      <td>12:30-14:00</td>\n",
       "      <td>Z</td>\n",
       "      <td>Z-203</td>\n",
       "    </tr>\n",
       "    <tr>\n",
       "      <th>4</th>\n",
       "      <td>3MM2</td>\n",
       "      <td>CALCULO III</td>\n",
       "      <td>VILLANUEVA LOPEZ JORGE RUBEN</td>\n",
       "      <td>9:30-11:00</td>\n",
       "      <td>NaN</td>\n",
       "      <td>9:30-11:00</td>\n",
       "      <td>9:30-11:00</td>\n",
       "      <td>NaN</td>\n",
       "      <td>Z</td>\n",
       "      <td>Z-203</td>\n",
       "    </tr>\n",
       "  </tbody>\n",
       "</table>\n",
       "</div>"
      ],
      "text/plain": [
       "  Grupo                Descripción                       Profesor  \\\n",
       "0  3MM1                ALGEBRA III              CRUZ RAMIREZ JOEL   \n",
       "1  3MM1                   ECONOMIA       ROBLES CONTRERAS GABRIEL   \n",
       "2  3MM2  ECS. DIFERENCIALES ORD. I   JUAREZ VELAZQUEZ JUAN MANUEL   \n",
       "3  3MM2        METODOS NUMERICOS I  MORENO MUÑOZ CARLOS ALEJANDRO   \n",
       "4  3MM2                CALCULO III   VILLANUEVA LOPEZ JORGE RUBEN   \n",
       "\n",
       "         Lunes       Martes    Miercoles       Jueves      Viernes Edificio  \\\n",
       "0   9:00-10:30    8:00-9:30  12:00-13:30    8:00-9:30    8:00-9:30        Z   \n",
       "1          NaN  11:00-12:30          NaN  11:00-12:30          NaN        Z   \n",
       "2    8:00-9:30          NaN    8:00-9:30          NaN   9:30-11:00        Z   \n",
       "3  12:30-14:00          NaN  12:30-14:00          NaN  12:30-14:00        Z   \n",
       "4   9:30-11:00          NaN   9:30-11:00   9:30-11:00          NaN        Z   \n",
       "\n",
       "   Salón  \n",
       "0  Z-203  \n",
       "1  Z-203  \n",
       "2  Z-203  \n",
       "3  Z-203  \n",
       "4  Z-203  "
      ]
     },
     "execution_count": 10,
     "metadata": {},
     "output_type": "execute_result"
    }
   ],
   "source": [
    "df"
   ]
  },
  {
   "cell_type": "code",
   "execution_count": 11,
   "metadata": {},
   "outputs": [],
   "source": [
    "datos_dict = df.to_dict()"
   ]
  },
  {
   "cell_type": "code",
   "execution_count": 12,
   "metadata": {},
   "outputs": [
    {
     "data": {
      "text/plain": [
       "{0: '9:00-10:30', 1: nan, 2: '8:00-9:30', 3: '12:30-14:00', 4: '9:30-11:00'}"
      ]
     },
     "execution_count": 12,
     "metadata": {},
     "output_type": "execute_result"
    }
   ],
   "source": [
    "datos_dict['Lunes']"
   ]
  },
  {
   "cell_type": "code",
   "execution_count": 23,
   "metadata": {},
   "outputs": [
    {
     "data": {
      "text/plain": [
       "9.5"
      ]
     },
     "execution_count": 23,
     "metadata": {},
     "output_type": "execute_result"
    }
   ],
   "source": [
    "int(datos_dict['Lunes'][2].split('-')[1].split(':')[0]) + int(datos_dict['Lunes'][2].split('-')[1].split(':')[1])/60"
   ]
  },
  {
   "cell_type": "code",
   "execution_count": 46,
   "metadata": {
    "scrolled": true
   },
   "outputs": [
    {
     "name": "stdout",
     "output_type": "stream",
     "text": [
      "Hay un traslape en  12:00-13:30\n"
     ]
    }
   ],
   "source": [
    "traslapes = []\n",
    "for posicion1 in range(5):\n",
    "    for posicion2 in range(posicion1+1,5):\n",
    "       # print('\\n Comparando: ')\n",
    "        valor1 = list(datos_dict['Miercoles'].values())[posicion1]\n",
    "        valor2 = list(datos_dict['Miercoles'].values())[posicion2]\n",
    "        \n",
    "        if type(valor1) == str and type(valor2) == str:\n",
    "            inicio1 = valor1.split('-')[0].split(':')\n",
    "            final1 = valor1.split('-')[1].split(':')\n",
    "            \n",
    "            hora_inicio1 = int(inicio1[0]) + int(inicio1[1])/60\n",
    "            hora_final1 = int(final1[0]) + int(final1[1])/60\n",
    "            \n",
    "            inicio2 = valor2.split('-')[0].split(':')\n",
    "            final2 = valor2.split('-')[1].split(':')\n",
    "            \n",
    "            hora_inicio2 = int(inicio2[0]) + int(inicio2[1])/60\n",
    "            hora_final2 = int(final2[0]) + int(final2[1])/60\n",
    "            \n",
    "            \n",
    "            #print(hora_inicio1, hora_final1)\n",
    "            #print(hora_inicio2,hora_final2)\n",
    "            \n",
    "            if (hora_inicio1 >= hora_inicio2 and hora_inicio1 < hora_final2) or (hora_inicio2 >= hora_inicio1 and hora_inicio2 < hora_final1):\n",
    "                print('Hay un traslape en ',valor1)"
   ]
  },
  {
   "cell_type": "code",
   "execution_count": null,
   "metadata": {},
   "outputs": [],
   "source": [
    "!pip install instabot"
   ]
  },
  {
   "cell_type": "code",
   "execution_count": 47,
   "metadata": {},
   "outputs": [],
   "source": [
    "from instabot import Bot"
   ]
  }
 ],
 "metadata": {
  "kernelspec": {
   "display_name": "Python 3",
   "language": "python",
   "name": "python3"
  },
  "language_info": {
   "codemirror_mode": {
    "name": "ipython",
    "version": 3
   },
   "file_extension": ".py",
   "mimetype": "text/x-python",
   "name": "python",
   "nbconvert_exporter": "python",
   "pygments_lexer": "ipython3",
   "version": "3.8.3"
  }
 },
 "nbformat": 4,
 "nbformat_minor": 4
}
