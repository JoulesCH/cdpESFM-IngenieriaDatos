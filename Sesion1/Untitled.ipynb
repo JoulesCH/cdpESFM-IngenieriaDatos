{
 "cells": [
  {
   "cell_type": "code",
   "execution_count": 87,
   "metadata": {},
   "outputs": [],
   "source": [
    "import pandas as pd"
   ]
  },
  {
   "cell_type": "code",
   "execution_count": 88,
   "metadata": {},
   "outputs": [
    {
     "name": "stdout",
     "output_type": "stream",
     "text": [
      "Requirement already satisfied: pandas in c:\\users\\wordl\\anaconda3\\lib\\site-packages (1.0.5)\n",
      "Requirement already satisfied: numpy>=1.13.3 in c:\\users\\wordl\\anaconda3\\lib\\site-packages (from pandas) (1.18.5)\n",
      "Requirement already satisfied: python-dateutil>=2.6.1 in c:\\users\\wordl\\anaconda3\\lib\\site-packages (from pandas) (2.8.1)\n",
      "Requirement already satisfied: pytz>=2017.2 in c:\\users\\wordl\\anaconda3\\lib\\site-packages (from pandas) (2020.1)\n",
      "Requirement already satisfied: six>=1.5 in c:\\users\\wordl\\anaconda3\\lib\\site-packages (from python-dateutil>=2.6.1->pandas) (1.15.0)\n"
     ]
    }
   ],
   "source": [
    "!pip install pandas"
   ]
  },
  {
   "cell_type": "code",
   "execution_count": 89,
   "metadata": {},
   "outputs": [],
   "source": [
    "url = 'horario.xlsx'"
   ]
  },
  {
   "cell_type": "code",
   "execution_count": 90,
   "metadata": {},
   "outputs": [],
   "source": [
    "url = 'https://drive.google.com/u/0/uc?id=1kD_8IFNx00j4vENmj1hYqz0Sm34V5Ml0&export=download'"
   ]
  },
  {
   "cell_type": "code",
   "execution_count": 91,
   "metadata": {},
   "outputs": [],
   "source": [
    "df = pd.read_excel(url)"
   ]
  },
  {
   "cell_type": "code",
   "execution_count": 92,
   "metadata": {},
   "outputs": [
    {
     "data": {
      "text/html": [
       "<div>\n",
       "<style scoped>\n",
       "    .dataframe tbody tr th:only-of-type {\n",
       "        vertical-align: middle;\n",
       "    }\n",
       "\n",
       "    .dataframe tbody tr th {\n",
       "        vertical-align: top;\n",
       "    }\n",
       "\n",
       "    .dataframe thead th {\n",
       "        text-align: right;\n",
       "    }\n",
       "</style>\n",
       "<table border=\"1\" class=\"dataframe\">\n",
       "  <thead>\n",
       "    <tr style=\"text-align: right;\">\n",
       "      <th></th>\n",
       "      <th>Grupo</th>\n",
       "      <th>Descripción</th>\n",
       "      <th>Profesor</th>\n",
       "      <th>Lunes</th>\n",
       "      <th>Martes</th>\n",
       "      <th>Miercoles</th>\n",
       "      <th>Jueves</th>\n",
       "      <th>Viernes</th>\n",
       "      <th>Edificio</th>\n",
       "      <th>Salón</th>\n",
       "    </tr>\n",
       "  </thead>\n",
       "  <tbody>\n",
       "    <tr>\n",
       "      <th>0</th>\n",
       "      <td>3MM1</td>\n",
       "      <td>ALGEBRA III</td>\n",
       "      <td>CRUZ RAMIREZ JOEL</td>\n",
       "      <td>NaN</td>\n",
       "      <td>8:00-9:30</td>\n",
       "      <td>NaN</td>\n",
       "      <td>8:00-9:30</td>\n",
       "      <td>8:00-9:30</td>\n",
       "      <td>Z</td>\n",
       "      <td>Z-203</td>\n",
       "    </tr>\n",
       "    <tr>\n",
       "      <th>1</th>\n",
       "      <td>3MM1</td>\n",
       "      <td>ECONOMIA</td>\n",
       "      <td>ROBLES CONTRERAS GABRIEL</td>\n",
       "      <td>NaN</td>\n",
       "      <td>11:00-12:30</td>\n",
       "      <td>NaN</td>\n",
       "      <td>11:00-12:30</td>\n",
       "      <td>NaN</td>\n",
       "      <td>Z</td>\n",
       "      <td>Z-203</td>\n",
       "    </tr>\n",
       "    <tr>\n",
       "      <th>2</th>\n",
       "      <td>3MM2</td>\n",
       "      <td>ECS. DIFERENCIALES ORD. I</td>\n",
       "      <td>JUAREZ VELAZQUEZ JUAN MANUEL</td>\n",
       "      <td>8:00-9:30</td>\n",
       "      <td>NaN</td>\n",
       "      <td>8:00-9:30</td>\n",
       "      <td>NaN</td>\n",
       "      <td>9:30-11:00</td>\n",
       "      <td>Z</td>\n",
       "      <td>Z-203</td>\n",
       "    </tr>\n",
       "    <tr>\n",
       "      <th>3</th>\n",
       "      <td>3MM2</td>\n",
       "      <td>METODOS NUMERICOS I</td>\n",
       "      <td>MORENO MUÑOZ CARLOS ALEJANDRO</td>\n",
       "      <td>12:30-14:00</td>\n",
       "      <td>NaN</td>\n",
       "      <td>12:30-14:00</td>\n",
       "      <td>NaN</td>\n",
       "      <td>12:30-14:00</td>\n",
       "      <td>Z</td>\n",
       "      <td>Z-203</td>\n",
       "    </tr>\n",
       "    <tr>\n",
       "      <th>4</th>\n",
       "      <td>3MM2</td>\n",
       "      <td>CALCULO III</td>\n",
       "      <td>VILLANUEVA LOPEZ JORGE RUBEN</td>\n",
       "      <td>9:30-11:00</td>\n",
       "      <td>NaN</td>\n",
       "      <td>9:30-11:00</td>\n",
       "      <td>9:30-11:00</td>\n",
       "      <td>NaN</td>\n",
       "      <td>Z</td>\n",
       "      <td>Z-203</td>\n",
       "    </tr>\n",
       "  </tbody>\n",
       "</table>\n",
       "</div>"
      ],
      "text/plain": [
       "  Grupo                Descripción                       Profesor  \\\n",
       "0  3MM1                ALGEBRA III              CRUZ RAMIREZ JOEL   \n",
       "1  3MM1                   ECONOMIA       ROBLES CONTRERAS GABRIEL   \n",
       "2  3MM2  ECS. DIFERENCIALES ORD. I   JUAREZ VELAZQUEZ JUAN MANUEL   \n",
       "3  3MM2        METODOS NUMERICOS I  MORENO MUÑOZ CARLOS ALEJANDRO   \n",
       "4  3MM2                CALCULO III   VILLANUEVA LOPEZ JORGE RUBEN   \n",
       "\n",
       "         Lunes       Martes    Miercoles       Jueves      Viernes Edificio  \\\n",
       "0          NaN    8:00-9:30          NaN    8:00-9:30    8:00-9:30        Z   \n",
       "1          NaN  11:00-12:30          NaN  11:00-12:30          NaN        Z   \n",
       "2    8:00-9:30          NaN    8:00-9:30          NaN   9:30-11:00        Z   \n",
       "3  12:30-14:00          NaN  12:30-14:00          NaN  12:30-14:00        Z   \n",
       "4   9:30-11:00          NaN   9:30-11:00   9:30-11:00          NaN        Z   \n",
       "\n",
       "   Salón  \n",
       "0  Z-203  \n",
       "1  Z-203  \n",
       "2  Z-203  \n",
       "3  Z-203  \n",
       "4  Z-203  "
      ]
     },
     "execution_count": 92,
     "metadata": {},
     "output_type": "execute_result"
    }
   ],
   "source": [
    "df"
   ]
  },
  {
   "cell_type": "code",
   "execution_count": 93,
   "metadata": {},
   "outputs": [],
   "source": [
    "lista1 = df.values.tolist()"
   ]
  },
  {
   "cell_type": "code",
   "execution_count": 107,
   "metadata": {},
   "outputs": [
    {
     "ename": "AttributeError",
     "evalue": "module 'pandas' has no attribute 'na'",
     "output_type": "error",
     "traceback": [
      "\u001b[1;31m---------------------------------------------------------------------------\u001b[0m",
      "\u001b[1;31mAttributeError\u001b[0m                            Traceback (most recent call last)",
      "\u001b[1;32m<ipython-input-107-5d33d4f7a6b7>\u001b[0m in \u001b[0;36m<module>\u001b[1;34m\u001b[0m\n\u001b[1;32m----> 1\u001b[1;33m \u001b[0mlista1\u001b[0m\u001b[1;33m[\u001b[0m\u001b[1;36m0\u001b[0m\u001b[1;33m]\u001b[0m\u001b[1;33m[\u001b[0m\u001b[1;36m3\u001b[0m\u001b[1;33m]\u001b[0m \u001b[1;33m==\u001b[0m \u001b[0mpd\u001b[0m\u001b[1;33m.\u001b[0m\u001b[0mna\u001b[0m\u001b[1;33m\u001b[0m\u001b[1;33m\u001b[0m\u001b[0m\n\u001b[0m",
      "\u001b[1;32m~\\anaconda3\\lib\\site-packages\\pandas\\__init__.py\u001b[0m in \u001b[0;36m__getattr__\u001b[1;34m(name)\u001b[0m\n\u001b[0;32m    261\u001b[0m             \u001b[1;32mreturn\u001b[0m \u001b[0m_SparseArray\u001b[0m\u001b[1;33m\u001b[0m\u001b[1;33m\u001b[0m\u001b[0m\n\u001b[0;32m    262\u001b[0m \u001b[1;33m\u001b[0m\u001b[0m\n\u001b[1;32m--> 263\u001b[1;33m         \u001b[1;32mraise\u001b[0m \u001b[0mAttributeError\u001b[0m\u001b[1;33m(\u001b[0m\u001b[1;34mf\"module 'pandas' has no attribute '{name}'\"\u001b[0m\u001b[1;33m)\u001b[0m\u001b[1;33m\u001b[0m\u001b[1;33m\u001b[0m\u001b[0m\n\u001b[0m\u001b[0;32m    264\u001b[0m \u001b[1;33m\u001b[0m\u001b[0m\n\u001b[0;32m    265\u001b[0m \u001b[1;33m\u001b[0m\u001b[0m\n",
      "\u001b[1;31mAttributeError\u001b[0m: module 'pandas' has no attribute 'na'"
     ]
    }
   ],
   "source": [
    "lista1[0][3] == pd.na"
   ]
  },
  {
   "cell_type": "code",
   "execution_count": 94,
   "metadata": {},
   "outputs": [],
   "source": [
    "def actividad_1(lista):\n",
    "    '''\n",
    "    Aquí empieza a escribir la función. Importante no cambiar el nombre a la función.\n",
    "    '''\n",
    "    valores = []\n",
    "    for element in lista[3:8]:\n",
    "            if type(element) == str:\n",
    "                valores.append(1)\n",
    "            else:\n",
    "                valores.append(0)\n",
    "    return valores"
   ]
  },
  {
   "cell_type": "code",
   "execution_count": 95,
   "metadata": {},
   "outputs": [],
   "source": [
    "respuestas = []\n",
    "for element in lista1:\n",
    "    respuestas.append(actividad_1(element))"
   ]
  },
  {
   "cell_type": "code",
   "execution_count": 96,
   "metadata": {},
   "outputs": [
    {
     "data": {
      "text/plain": [
       "[[0, 1, 0, 1, 1],\n",
       " [0, 1, 0, 1, 0],\n",
       " [1, 0, 1, 0, 1],\n",
       " [1, 0, 1, 0, 1],\n",
       " [1, 0, 1, 1, 0]]"
      ]
     },
     "execution_count": 96,
     "metadata": {},
     "output_type": "execute_result"
    }
   ],
   "source": [
    "respuestas"
   ]
  },
  {
   "cell_type": "code",
   "execution_count": 97,
   "metadata": {},
   "outputs": [
    {
     "data": {
      "text/plain": [
       "[0, 1, 0, 1, 1, 0, 1, 0, 1, 0, 1, 0, 1, 0, 1, 1, 0, 1, 0, 1, 1, 0, 1, 1, 0]"
      ]
     },
     "execution_count": 97,
     "metadata": {},
     "output_type": "execute_result"
    }
   ],
   "source": [
    "respuestas[0] + respuestas[1] + respuestas[2] + respuestas[3] + respuestas[4]"
   ]
  },
  {
   "cell_type": "code",
   "execution_count": 98,
   "metadata": {},
   "outputs": [],
   "source": [
    "import numpy as np"
   ]
  },
  {
   "cell_type": "code",
   "execution_count": 99,
   "metadata": {},
   "outputs": [],
   "source": [
    "respuestas = np.array(respuestas)"
   ]
  },
  {
   "cell_type": "code",
   "execution_count": 78,
   "metadata": {},
   "outputs": [],
   "source": [
    " clases = respuestas[0] + respuestas[1] + respuestas[2] + respuestas[3] + respuestas[4]"
   ]
  },
  {
   "cell_type": "code",
   "execution_count": 80,
   "metadata": {},
   "outputs": [
    {
     "data": {
      "text/plain": [
       "array([3, 2, 3, 3, 3])"
      ]
     },
     "execution_count": 80,
     "metadata": {},
     "output_type": "execute_result"
    }
   ],
   "source": [
    "clases"
   ]
  },
  {
   "cell_type": "code",
   "execution_count": 79,
   "metadata": {},
   "outputs": [],
   "source": [
    "dias = ['Lun','Mar','Mie','Jue','Vie']"
   ]
  },
  {
   "cell_type": "code",
   "execution_count": 84,
   "metadata": {},
   "outputs": [],
   "source": [
    "numero_de_clases = [dias[i] + ': '+ str(clases[i]) for i in range(5)]"
   ]
  },
  {
   "cell_type": "code",
   "execution_count": 85,
   "metadata": {},
   "outputs": [
    {
     "data": {
      "text/plain": [
       "array([3, 2, 3, 3, 3])"
      ]
     },
     "execution_count": 85,
     "metadata": {},
     "output_type": "execute_result"
    }
   ],
   "source": [
    "clases"
   ]
  },
  {
   "cell_type": "code",
   "execution_count": 86,
   "metadata": {},
   "outputs": [
    {
     "data": {
      "text/plain": [
       "['Lun: 3', 'Mar: 2', 'Mie: 3', 'Jue: 3', 'Vie: 3']"
      ]
     },
     "execution_count": 86,
     "metadata": {},
     "output_type": "execute_result"
    }
   ],
   "source": [
    "numero_de_clases"
   ]
  },
  {
   "cell_type": "code",
   "execution_count": null,
   "metadata": {},
   "outputs": [],
   "source": []
  }
 ],
 "metadata": {
  "kernelspec": {
   "display_name": "Python 3",
   "language": "python",
   "name": "python3"
  },
  "language_info": {
   "codemirror_mode": {
    "name": "ipython",
    "version": 3
   },
   "file_extension": ".py",
   "mimetype": "text/x-python",
   "name": "python",
   "nbconvert_exporter": "python",
   "pygments_lexer": "ipython3",
   "version": "3.8.3"
  }
 },
 "nbformat": 4,
 "nbformat_minor": 4
}
