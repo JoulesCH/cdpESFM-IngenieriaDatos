{
 "cells": [
  {
   "cell_type": "code",
   "execution_count": 1,
   "metadata": {
    "id": "hj4KRrYP4uzd",
    "outputId": "06205f84-5356-4130-885c-e35475e4c8c1",
    "scrolled": false
   },
   "outputs": [
    {
     "data": {
      "text/html": [
       "<a href=\"https://subefotos.com/ver/?141f77a15fc910b5d5b34c4b1a6cfb19o.png\" target=\"_blank\"><img src=\"https://fotos.subefotos.com/bfa0edacd915cdc7de8ee4a357071610o.png\" style = \"width: 150px; height: auto; margin-left:auto;margin-right:auto\"/><img src=\"https://fotos.subefotos.com/2a13aea56c4bf96860ed297b29abc189o.png\" style = \"width: 750px; height: auto; margin-left: auto; margin-right: 150px;margin-top:0 \"/></a>\n"
      ],
      "text/plain": [
       "<IPython.core.display.HTML object>"
      ]
     },
     "metadata": {},
     "output_type": "display_data"
    }
   ],
   "source": [
    "%%HTML\n",
    "<a href=\"https://subefotos.com/ver/?141f77a15fc910b5d5b34c4b1a6cfb19o.png\" target=\"_blank\"><img src=\"https://fotos.subefotos.com/bfa0edacd915cdc7de8ee4a357071610o.png\" style = \"width: 150px; height: auto; margin-left:auto;margin-right:auto\"/><img src=\"https://fotos.subefotos.com/2a13aea56c4bf96860ed297b29abc189o.png\" style = \"width: 750px; height: auto; margin-left: auto; margin-right: 150px;margin-top:0 \"/></a>"
   ]
  },
  {
   "cell_type": "markdown",
   "metadata": {
    "id": "Jn31nu2D4u0J"
   },
   "source": [
    "# EXTRACT - Lectura de archivos\n",
    "___\n",
    "Primer caso: Cuando los archivos están en formato **excel**, utilizaremos el objeto **read_excel()** de **pandas**."
   ]
  },
  {
   "cell_type": "code",
   "execution_count": 5,
   "metadata": {
    "id": "_tqXO_t64u0N"
   },
   "outputs": [],
   "source": [
    "import pandas as pd"
   ]
  },
  {
   "cell_type": "code",
   "execution_count": 22,
   "metadata": {
    "id": "7hpH2Q4r4u09"
   },
   "outputs": [],
   "source": [
    "# Si estás usando jupyter notebooks en google colab ejecuta esta celda \n",
    "url = 'https://drive.google.com/u/0/uc?id=1kD_8IFNx00j4vENmj1hYqz0Sm34V5Ml0&export=download'"
   ]
  },
  {
   "cell_type": "code",
   "execution_count": 7,
   "metadata": {
    "id": "FhTzxTHO4u1Y"
   },
   "outputs": [],
   "source": [
    "# Si no, ejecuta esta celda\n",
    "url = 'horario.xlsx'"
   ]
  },
  {
   "cell_type": "code",
   "execution_count": 23,
   "metadata": {
    "id": "-AJriCTc4u1r",
    "outputId": "bb2a012b-c1a2-493b-f8fb-43ddd07ce883",
    "scrolled": true
   },
   "outputs": [
    {
     "data": {
      "text/html": [
       "<div>\n",
       "<style scoped>\n",
       "    .dataframe tbody tr th:only-of-type {\n",
       "        vertical-align: middle;\n",
       "    }\n",
       "\n",
       "    .dataframe tbody tr th {\n",
       "        vertical-align: top;\n",
       "    }\n",
       "\n",
       "    .dataframe thead th {\n",
       "        text-align: right;\n",
       "    }\n",
       "</style>\n",
       "<table border=\"1\" class=\"dataframe\">\n",
       "  <thead>\n",
       "    <tr style=\"text-align: right;\">\n",
       "      <th></th>\n",
       "      <th>Grupo</th>\n",
       "      <th>Descripción</th>\n",
       "      <th>Profesor</th>\n",
       "      <th>Lunes</th>\n",
       "      <th>Martes</th>\n",
       "      <th>Miercoles</th>\n",
       "      <th>Jueves</th>\n",
       "      <th>Viernes</th>\n",
       "      <th>Edificio</th>\n",
       "      <th>Salón</th>\n",
       "    </tr>\n",
       "  </thead>\n",
       "  <tbody>\n",
       "    <tr>\n",
       "      <th>0</th>\n",
       "      <td>3MM1</td>\n",
       "      <td>ALGEBRA III</td>\n",
       "      <td>CRUZ RAMIREZ JOEL</td>\n",
       "      <td>NaN</td>\n",
       "      <td>8:00-9:30</td>\n",
       "      <td>NaN</td>\n",
       "      <td>8:00-9:30</td>\n",
       "      <td>8:00-9:30</td>\n",
       "      <td>Z</td>\n",
       "      <td>Z-203</td>\n",
       "    </tr>\n",
       "    <tr>\n",
       "      <th>1</th>\n",
       "      <td>3MM1</td>\n",
       "      <td>ECONOMIA</td>\n",
       "      <td>ROBLES CONTRERAS GABRIEL</td>\n",
       "      <td>NaN</td>\n",
       "      <td>11:00-12:30</td>\n",
       "      <td>NaN</td>\n",
       "      <td>11:00-12:30</td>\n",
       "      <td>NaN</td>\n",
       "      <td>Z</td>\n",
       "      <td>Z-203</td>\n",
       "    </tr>\n",
       "    <tr>\n",
       "      <th>2</th>\n",
       "      <td>3MM2</td>\n",
       "      <td>ECS. DIFERENCIALES ORD. I</td>\n",
       "      <td>JUAREZ VELAZQUEZ JUAN MANUEL</td>\n",
       "      <td>8:00-9:30</td>\n",
       "      <td>NaN</td>\n",
       "      <td>8:00-9:30</td>\n",
       "      <td>NaN</td>\n",
       "      <td>9:30-11:00</td>\n",
       "      <td>Z</td>\n",
       "      <td>Z-203</td>\n",
       "    </tr>\n",
       "    <tr>\n",
       "      <th>3</th>\n",
       "      <td>3MM2</td>\n",
       "      <td>METODOS NUMERICOS I</td>\n",
       "      <td>MORENO MUÑOZ CARLOS ALEJANDRO</td>\n",
       "      <td>12:30-14:00</td>\n",
       "      <td>NaN</td>\n",
       "      <td>12:30-14:00</td>\n",
       "      <td>NaN</td>\n",
       "      <td>12:30-14:00</td>\n",
       "      <td>Z</td>\n",
       "      <td>Z-203</td>\n",
       "    </tr>\n",
       "    <tr>\n",
       "      <th>4</th>\n",
       "      <td>3MM2</td>\n",
       "      <td>CALCULO III</td>\n",
       "      <td>VILLANUEVA LOPEZ JORGE RUBEN</td>\n",
       "      <td>9:30-11:00</td>\n",
       "      <td>NaN</td>\n",
       "      <td>9:30-11:00</td>\n",
       "      <td>9:30-11:00</td>\n",
       "      <td>NaN</td>\n",
       "      <td>Z</td>\n",
       "      <td>Z-203</td>\n",
       "    </tr>\n",
       "  </tbody>\n",
       "</table>\n",
       "</div>"
      ],
      "text/plain": [
       "  Grupo                Descripción                       Profesor  \\\n",
       "0  3MM1                ALGEBRA III              CRUZ RAMIREZ JOEL   \n",
       "1  3MM1                   ECONOMIA       ROBLES CONTRERAS GABRIEL   \n",
       "2  3MM2  ECS. DIFERENCIALES ORD. I   JUAREZ VELAZQUEZ JUAN MANUEL   \n",
       "3  3MM2        METODOS NUMERICOS I  MORENO MUÑOZ CARLOS ALEJANDRO   \n",
       "4  3MM2                CALCULO III   VILLANUEVA LOPEZ JORGE RUBEN   \n",
       "\n",
       "         Lunes       Martes    Miercoles       Jueves      Viernes Edificio  \\\n",
       "0          NaN    8:00-9:30          NaN    8:00-9:30    8:00-9:30        Z   \n",
       "1          NaN  11:00-12:30          NaN  11:00-12:30          NaN        Z   \n",
       "2    8:00-9:30          NaN    8:00-9:30          NaN   9:30-11:00        Z   \n",
       "3  12:30-14:00          NaN  12:30-14:00          NaN  12:30-14:00        Z   \n",
       "4   9:30-11:00          NaN   9:30-11:00   9:30-11:00          NaN        Z   \n",
       "\n",
       "   Salón  \n",
       "0  Z-203  \n",
       "1  Z-203  \n",
       "2  Z-203  \n",
       "3  Z-203  \n",
       "4  Z-203  "
      ]
     },
     "execution_count": 23,
     "metadata": {},
     "output_type": "execute_result"
    }
   ],
   "source": [
    "df = pd.read_excel(url) #Se utiliza df por convención para denotar Data Frames\n",
    "df"
   ]
  },
  {
   "cell_type": "markdown",
   "metadata": {
    "id": "KkIKjhGk4u1_"
   },
   "source": [
    "Creamos un objeto de pandas que representa un Data Frame, más adelante veremos cómo trabajar con estos. Por ahora trabajaremos convirtiendo el Data Frame a diccionario y listas.\n",
    " \n",
    "Lo convertiremos primero a listas:\n",
    "- El atributo **values** nos regresa todos los valores convertidos a arreglos.\n",
    "- El método **tolist( )** convierte los arreglos a listas.\n",
    "- Cada fila del **Data Frame** se convierte en una lista."
   ]
  },
  {
   "cell_type": "code",
   "execution_count": 24,
   "metadata": {
    "id": "to0Vh0Pi4u2D",
    "outputId": "5b2f402e-af5f-4296-8bf5-3848c2ddfc5e"
   },
   "outputs": [
    {
     "name": "stdout",
     "output_type": "stream",
     "text": [
      "['3MM1', 'ALGEBRA III', 'CRUZ RAMIREZ JOEL', nan, '8:00-9:30', nan, '8:00-9:30', '8:00-9:30', 'Z', 'Z-203']\n"
     ]
    }
   ],
   "source": [
    "lista = df.values.tolist()\n",
    "print(lista[0]) #Solo visualizamos la primera fila"
   ]
  },
  {
   "cell_type": "markdown",
   "metadata": {
    "id": "UCYQPZwb4u2S"
   },
   "source": [
    "___\n",
    "## Actividad 1:\n",
    "Crear una función que pida de parámetro una lista como la anterior, y regrese una lista con 5 elementos en donde la posición 0 sea Lunes y la 5 sea Viernes, con valores de 0 (si no hay clase ese día) o 1 (si hay clase ese día).\n",
    "#### Ej.\n",
    "Entrada: \n",
    "\n",
    "\\>> ['3MM1', 'ALGEBRA III', 'CRUZ RAMIREZ JOEL', nan, '8:00-9:30', nan, '8:00-9:30', '8:00-9:30', 'Z', 'Z-203']\n",
    "\n",
    "Salida:\n",
    "\n",
    "\\>> [0, 1, 0, 1, 1] "
   ]
  },
  {
   "cell_type": "code",
   "execution_count": 25,
   "metadata": {
    "id": "tAN9N46e4u2V"
   },
   "outputs": [],
   "source": [
    "def actividad_1(lista):\n",
    "    '''\n",
    "    Aquí empieza a escribir la función. Importante no cambiar el nombre a la función.\n",
    "    '''\n",
    "    valores = []\n",
    "    for element in lista[3:8]:\n",
    "            if type(element) == str:\n",
    "                valores.append(1)\n",
    "            else:\n",
    "                valores.append(0)\n",
    "    return valores"
   ]
  },
  {
   "cell_type": "code",
   "execution_count": 26,
   "metadata": {},
   "outputs": [
    {
     "data": {
      "text/plain": [
       "[0, 1, 0, 1, 1]"
      ]
     },
     "execution_count": 26,
     "metadata": {},
     "output_type": "execute_result"
    }
   ],
   "source": [
    "actividad_1(lista[0])"
   ]
  },
  {
   "cell_type": "code",
   "execution_count": 27,
   "metadata": {
    "id": "b94-yrxm4u2f",
    "outputId": "bcf04541-0894-48ef-f476-2b145e6e7ba8"
   },
   "outputs": [
    {
     "name": "stdout",
     "output_type": "stream",
     "text": [
      "Buena: ALGEBRA III\n",
      "Buena: ECONOMIA\n",
      "Buena: ECS. DIFERENCIALES ORD. I\n",
      "Buena: METODOS NUMERICOS I\n",
      "Buena: CALCULO III\n"
     ]
    }
   ],
   "source": [
    "'''\n",
    "Prueba tu resultado ejecutando esta celda.\n",
    "'''\n",
    "respuestas = [[0, 1, 0, 1, 1],[0, 1, 0, 1, 0], [1, 0, 1, 0, 1],[1, 0, 1, 0, 1],[1, 0, 1, 1, 0]]\n",
    "\n",
    "for materia, respuesta in zip(lista, respuestas):\n",
    "    try:\n",
    "        assert actividad_1(materia) == respuesta\n",
    "        print('Buena: '+ materia[1])\n",
    "    except AssertionError:\n",
    "        print('Error en ' + materia[1] ) "
   ]
  },
  {
   "cell_type": "markdown",
   "metadata": {
    "id": "-3Ana4df4u2p"
   },
   "source": [
    "___\n",
    "Con la actividad pasada, podemos calcular cuantas clases al día hay, vemos que si sumamos las listas sólo las concatena:"
   ]
  },
  {
   "cell_type": "code",
   "execution_count": 28,
   "metadata": {
    "id": "tsJ9teME4u2r",
    "outputId": "b6dda36c-9b9e-4c32-ef8a-0ec47fe38bf6"
   },
   "outputs": [
    {
     "data": {
      "text/plain": [
       "[0, 1, 0, 1, 1, 0, 1, 0, 1, 0, 1, 0, 1, 0, 1, 1, 0, 1, 0, 1, 1, 0, 1, 1, 0]"
      ]
     },
     "execution_count": 28,
     "metadata": {},
     "output_type": "execute_result"
    }
   ],
   "source": [
    "respuestas[0] + respuestas[1] + respuestas[2] + respuestas[3] + respuestas[4]"
   ]
  },
  {
   "cell_type": "code",
   "execution_count": 29,
   "metadata": {
    "id": "rO0uKvlU4u26"
   },
   "outputs": [],
   "source": [
    "import numpy as np\n",
    "respuestas = np.array(respuestas) # Convertimos a array para que nos deje sumar elemento con elemento"
   ]
  },
  {
   "cell_type": "code",
   "execution_count": 30,
   "metadata": {
    "id": "a42nOb0U4u3K",
    "outputId": "85e112a8-a79b-4912-c0bf-13df71a37987"
   },
   "outputs": [
    {
     "data": {
      "text/plain": [
       "array([3, 2, 3, 3, 3])"
      ]
     },
     "execution_count": 30,
     "metadata": {},
     "output_type": "execute_result"
    }
   ],
   "source": [
    "respuestas[0] + respuestas[1] + respuestas[2] + respuestas[3] + respuestas[4]"
   ]
  },
  {
   "cell_type": "code",
   "execution_count": 31,
   "metadata": {
    "id": "6q2u5_r04u3Z"
   },
   "outputs": [],
   "source": [
    "dias = ['Lun','Mar','Mie','Jue','Vi']\n",
    "clases = respuestas[0] + respuestas[1] + respuestas[2] + respuestas[3] + respuestas[4]\n",
    "numero_de_clases = [dias[i] +': ' + str(clases[i]) for i in range(5)]"
   ]
  },
  {
   "cell_type": "code",
   "execution_count": 32,
   "metadata": {
    "id": "vWvhf8_U4u3p",
    "outputId": "ce2c3df7-a69c-4cc6-8afc-98ab880901d0"
   },
   "outputs": [
    {
     "name": "stdout",
     "output_type": "stream",
     "text": [
      "[3 2 3 3 3]\n",
      "['Lun: 3', 'Mar: 2', 'Mie: 3', 'Jue: 3', 'Vi: 3']\n"
     ]
    }
   ],
   "source": [
    "print(clases)\n",
    "print(numero_de_clases)"
   ]
  },
  {
   "cell_type": "markdown",
   "metadata": {
    "id": "EiXuwP4O4u3z"
   },
   "source": [
    "___\n",
    "Ahora lo convertiremos a diccionarios:"
   ]
  },
  {
   "cell_type": "code",
   "execution_count": 34,
   "metadata": {},
   "outputs": [
    {
     "data": {
      "text/plain": [
       "{'Grupo': {0: '3MM1', 1: '3MM1', 2: '3MM2', 3: '3MM2', 4: '3MM2'},\n",
       " 'Descripción': {0: 'ALGEBRA III',\n",
       "  1: 'ECONOMIA',\n",
       "  2: 'ECS. DIFERENCIALES ORD. I',\n",
       "  3: 'METODOS NUMERICOS I',\n",
       "  4: 'CALCULO III'},\n",
       " 'Profesor': {0: 'CRUZ RAMIREZ JOEL',\n",
       "  1: 'ROBLES CONTRERAS GABRIEL',\n",
       "  2: 'JUAREZ VELAZQUEZ JUAN MANUEL',\n",
       "  3: 'MORENO MUÑOZ CARLOS ALEJANDRO',\n",
       "  4: 'VILLANUEVA LOPEZ JORGE RUBEN'},\n",
       " 'Lunes': {0: nan, 1: nan, 2: '8:00-9:30', 3: '12:30-14:00', 4: '9:30-11:00'},\n",
       " 'Martes': {0: '8:00-9:30', 1: '11:00-12:30', 2: nan, 3: nan, 4: nan},\n",
       " 'Miercoles': {0: nan,\n",
       "  1: nan,\n",
       "  2: '8:00-9:30',\n",
       "  3: '12:30-14:00',\n",
       "  4: '9:30-11:00'},\n",
       " 'Jueves': {0: '8:00-9:30', 1: '11:00-12:30', 2: nan, 3: nan, 4: '9:30-11:00'},\n",
       " 'Viernes': {0: '8:00-9:30',\n",
       "  1: nan,\n",
       "  2: '9:30-11:00',\n",
       "  3: '12:30-14:00',\n",
       "  4: nan},\n",
       " 'Edificio': {0: 'Z', 1: 'Z', 2: 'Z', 3: 'Z', 4: 'Z'},\n",
       " 'Salón': {0: 'Z-203', 1: 'Z-203', 2: 'Z-203', 3: 'Z-203', 4: 'Z-203'}}"
      ]
     },
     "execution_count": 34,
     "metadata": {},
     "output_type": "execute_result"
    }
   ],
   "source": [
    "df.to_dict()"
   ]
  },
  {
   "cell_type": "markdown",
   "metadata": {},
   "source": [
    "Vemos que convertimos directamente el Data Frame a diccionario, no necesitamos el atributo *values*.\n",
    "\n",
    "Las columnas se convirtieron en las llaves de un diccionario y los elementos de las listas son diccionarios también, con los índices cómo llaves"
   ]
  },
  {
   "cell_type": "markdown",
   "metadata": {},
   "source": [
    "Vamos a cambiar algunos valores para traslapar materias."
   ]
  },
  {
   "cell_type": "code",
   "execution_count": 37,
   "metadata": {},
   "outputs": [
    {
     "data": {
      "text/html": [
       "<div>\n",
       "<style scoped>\n",
       "    .dataframe tbody tr th:only-of-type {\n",
       "        vertical-align: middle;\n",
       "    }\n",
       "\n",
       "    .dataframe tbody tr th {\n",
       "        vertical-align: top;\n",
       "    }\n",
       "\n",
       "    .dataframe thead th {\n",
       "        text-align: right;\n",
       "    }\n",
       "</style>\n",
       "<table border=\"1\" class=\"dataframe\">\n",
       "  <thead>\n",
       "    <tr style=\"text-align: right;\">\n",
       "      <th></th>\n",
       "      <th>Grupo</th>\n",
       "      <th>Descripción</th>\n",
       "      <th>Profesor</th>\n",
       "      <th>Lunes</th>\n",
       "      <th>Martes</th>\n",
       "      <th>Miercoles</th>\n",
       "      <th>Jueves</th>\n",
       "      <th>Viernes</th>\n",
       "      <th>Edificio</th>\n",
       "      <th>Salón</th>\n",
       "    </tr>\n",
       "  </thead>\n",
       "  <tbody>\n",
       "    <tr>\n",
       "      <th>0</th>\n",
       "      <td>3MM1</td>\n",
       "      <td>ALGEBRA III</td>\n",
       "      <td>CRUZ RAMIREZ JOEL</td>\n",
       "      <td>NaN</td>\n",
       "      <td>8:00-9:30</td>\n",
       "      <td>NaN</td>\n",
       "      <td>8:00-9:30</td>\n",
       "      <td>8:00-9:30</td>\n",
       "      <td>Z</td>\n",
       "      <td>Z-203</td>\n",
       "    </tr>\n",
       "    <tr>\n",
       "      <th>1</th>\n",
       "      <td>3MM1</td>\n",
       "      <td>ECONOMIA</td>\n",
       "      <td>ROBLES CONTRERAS GABRIEL</td>\n",
       "      <td>NaN</td>\n",
       "      <td>11:00-12:30</td>\n",
       "      <td>NaN</td>\n",
       "      <td>11:00-12:30</td>\n",
       "      <td>NaN</td>\n",
       "      <td>Z</td>\n",
       "      <td>Z-203</td>\n",
       "    </tr>\n",
       "    <tr>\n",
       "      <th>2</th>\n",
       "      <td>3MM2</td>\n",
       "      <td>ECS. DIFERENCIALES ORD. I</td>\n",
       "      <td>JUAREZ VELAZQUEZ JUAN MANUEL</td>\n",
       "      <td>8:00-9:30</td>\n",
       "      <td>NaN</td>\n",
       "      <td>8:00-9:30</td>\n",
       "      <td>NaN</td>\n",
       "      <td>9:30-11:00</td>\n",
       "      <td>Z</td>\n",
       "      <td>Z-203</td>\n",
       "    </tr>\n",
       "    <tr>\n",
       "      <th>3</th>\n",
       "      <td>3MM2</td>\n",
       "      <td>METODOS NUMERICOS I</td>\n",
       "      <td>MORENO MUÑOZ CARLOS ALEJANDRO</td>\n",
       "      <td>12:30-14:00</td>\n",
       "      <td>NaN</td>\n",
       "      <td>12:30-14:00</td>\n",
       "      <td>NaN</td>\n",
       "      <td>12:30-14:00</td>\n",
       "      <td>Z</td>\n",
       "      <td>Z-203</td>\n",
       "    </tr>\n",
       "    <tr>\n",
       "      <th>4</th>\n",
       "      <td>3MM2</td>\n",
       "      <td>CALCULO III</td>\n",
       "      <td>VILLANUEVA LOPEZ JORGE RUBEN</td>\n",
       "      <td>9:30-11:00</td>\n",
       "      <td>NaN</td>\n",
       "      <td>9:30-11:00</td>\n",
       "      <td>9:30-11:00</td>\n",
       "      <td>NaN</td>\n",
       "      <td>Z</td>\n",
       "      <td>Z-203</td>\n",
       "    </tr>\n",
       "  </tbody>\n",
       "</table>\n",
       "</div>"
      ],
      "text/plain": [
       "  Grupo                Descripción                       Profesor  \\\n",
       "0  3MM1                ALGEBRA III              CRUZ RAMIREZ JOEL   \n",
       "1  3MM1                   ECONOMIA       ROBLES CONTRERAS GABRIEL   \n",
       "2  3MM2  ECS. DIFERENCIALES ORD. I   JUAREZ VELAZQUEZ JUAN MANUEL   \n",
       "3  3MM2        METODOS NUMERICOS I  MORENO MUÑOZ CARLOS ALEJANDRO   \n",
       "4  3MM2                CALCULO III   VILLANUEVA LOPEZ JORGE RUBEN   \n",
       "\n",
       "         Lunes       Martes    Miercoles       Jueves      Viernes Edificio  \\\n",
       "0          NaN    8:00-9:30          NaN    8:00-9:30    8:00-9:30        Z   \n",
       "1          NaN  11:00-12:30          NaN  11:00-12:30          NaN        Z   \n",
       "2    8:00-9:30          NaN    8:00-9:30          NaN   9:30-11:00        Z   \n",
       "3  12:30-14:00          NaN  12:30-14:00          NaN  12:30-14:00        Z   \n",
       "4   9:30-11:00          NaN   9:30-11:00   9:30-11:00          NaN        Z   \n",
       "\n",
       "   Salón  \n",
       "0  Z-203  \n",
       "1  Z-203  \n",
       "2  Z-203  \n",
       "3  Z-203  \n",
       "4  Z-203  "
      ]
     },
     "execution_count": 37,
     "metadata": {},
     "output_type": "execute_result"
    }
   ],
   "source": [
    "df"
   ]
  },
  {
   "cell_type": "code",
   "execution_count": 97,
   "metadata": {},
   "outputs": [],
   "source": [
    "df['Lunes'] = ['9:00-10:30', np.nan, '8:00-9:30','12:30-14:00','9:30-11:00']\n",
    "df['Miercoles'] = ['12:00-13:30', np.nan, '8:00-9:30','12:30-14:00','9:30-11:00']"
   ]
  },
  {
   "cell_type": "code",
   "execution_count": 98,
   "metadata": {},
   "outputs": [
    {
     "data": {
      "text/html": [
       "<div>\n",
       "<style scoped>\n",
       "    .dataframe tbody tr th:only-of-type {\n",
       "        vertical-align: middle;\n",
       "    }\n",
       "\n",
       "    .dataframe tbody tr th {\n",
       "        vertical-align: top;\n",
       "    }\n",
       "\n",
       "    .dataframe thead th {\n",
       "        text-align: right;\n",
       "    }\n",
       "</style>\n",
       "<table border=\"1\" class=\"dataframe\">\n",
       "  <thead>\n",
       "    <tr style=\"text-align: right;\">\n",
       "      <th></th>\n",
       "      <th>Grupo</th>\n",
       "      <th>Descripción</th>\n",
       "      <th>Profesor</th>\n",
       "      <th>Lunes</th>\n",
       "      <th>Martes</th>\n",
       "      <th>Miercoles</th>\n",
       "      <th>Jueves</th>\n",
       "      <th>Viernes</th>\n",
       "      <th>Edificio</th>\n",
       "      <th>Salón</th>\n",
       "    </tr>\n",
       "  </thead>\n",
       "  <tbody>\n",
       "    <tr>\n",
       "      <th>0</th>\n",
       "      <td>3MM1</td>\n",
       "      <td>ALGEBRA III</td>\n",
       "      <td>CRUZ RAMIREZ JOEL</td>\n",
       "      <td>9:00-10:30</td>\n",
       "      <td>8:00-9:30</td>\n",
       "      <td>12:00-13:30</td>\n",
       "      <td>8:00-9:30</td>\n",
       "      <td>8:00-9:30</td>\n",
       "      <td>Z</td>\n",
       "      <td>Z-203</td>\n",
       "    </tr>\n",
       "    <tr>\n",
       "      <th>1</th>\n",
       "      <td>3MM1</td>\n",
       "      <td>ECONOMIA</td>\n",
       "      <td>ROBLES CONTRERAS GABRIEL</td>\n",
       "      <td>NaN</td>\n",
       "      <td>11:00-12:30</td>\n",
       "      <td>NaN</td>\n",
       "      <td>11:00-12:30</td>\n",
       "      <td>NaN</td>\n",
       "      <td>Z</td>\n",
       "      <td>Z-203</td>\n",
       "    </tr>\n",
       "    <tr>\n",
       "      <th>2</th>\n",
       "      <td>3MM2</td>\n",
       "      <td>ECS. DIFERENCIALES ORD. I</td>\n",
       "      <td>JUAREZ VELAZQUEZ JUAN MANUEL</td>\n",
       "      <td>8:00-9:30</td>\n",
       "      <td>NaN</td>\n",
       "      <td>8:00-9:30</td>\n",
       "      <td>NaN</td>\n",
       "      <td>9:30-11:00</td>\n",
       "      <td>Z</td>\n",
       "      <td>Z-203</td>\n",
       "    </tr>\n",
       "    <tr>\n",
       "      <th>3</th>\n",
       "      <td>3MM2</td>\n",
       "      <td>METODOS NUMERICOS I</td>\n",
       "      <td>MORENO MUÑOZ CARLOS ALEJANDRO</td>\n",
       "      <td>12:30-14:00</td>\n",
       "      <td>NaN</td>\n",
       "      <td>12:30-14:00</td>\n",
       "      <td>NaN</td>\n",
       "      <td>12:30-14:00</td>\n",
       "      <td>Z</td>\n",
       "      <td>Z-203</td>\n",
       "    </tr>\n",
       "    <tr>\n",
       "      <th>4</th>\n",
       "      <td>3MM2</td>\n",
       "      <td>CALCULO III</td>\n",
       "      <td>VILLANUEVA LOPEZ JORGE RUBEN</td>\n",
       "      <td>9:30-11:00</td>\n",
       "      <td>NaN</td>\n",
       "      <td>9:30-11:00</td>\n",
       "      <td>9:30-11:00</td>\n",
       "      <td>NaN</td>\n",
       "      <td>Z</td>\n",
       "      <td>Z-203</td>\n",
       "    </tr>\n",
       "  </tbody>\n",
       "</table>\n",
       "</div>"
      ],
      "text/plain": [
       "  Grupo                Descripción                       Profesor  \\\n",
       "0  3MM1                ALGEBRA III              CRUZ RAMIREZ JOEL   \n",
       "1  3MM1                   ECONOMIA       ROBLES CONTRERAS GABRIEL   \n",
       "2  3MM2  ECS. DIFERENCIALES ORD. I   JUAREZ VELAZQUEZ JUAN MANUEL   \n",
       "3  3MM2        METODOS NUMERICOS I  MORENO MUÑOZ CARLOS ALEJANDRO   \n",
       "4  3MM2                CALCULO III   VILLANUEVA LOPEZ JORGE RUBEN   \n",
       "\n",
       "         Lunes       Martes    Miercoles       Jueves      Viernes Edificio  \\\n",
       "0   9:00-10:30    8:00-9:30  12:00-13:30    8:00-9:30    8:00-9:30        Z   \n",
       "1          NaN  11:00-12:30          NaN  11:00-12:30          NaN        Z   \n",
       "2    8:00-9:30          NaN    8:00-9:30          NaN   9:30-11:00        Z   \n",
       "3  12:30-14:00          NaN  12:30-14:00          NaN  12:30-14:00        Z   \n",
       "4   9:30-11:00          NaN   9:30-11:00   9:30-11:00          NaN        Z   \n",
       "\n",
       "   Salón  \n",
       "0  Z-203  \n",
       "1  Z-203  \n",
       "2  Z-203  \n",
       "3  Z-203  \n",
       "4  Z-203  "
      ]
     },
     "execution_count": 98,
     "metadata": {},
     "output_type": "execute_result"
    }
   ],
   "source": [
    "df"
   ]
  },
  {
   "cell_type": "markdown",
   "metadata": {},
   "source": [
    "Vemos que ahora ya tenemos un traslape los lunes y otro los miercoles."
   ]
  },
  {
   "cell_type": "code",
   "execution_count": 99,
   "metadata": {},
   "outputs": [
    {
     "data": {
      "text/plain": [
       "{0: '9:00-10:30', 1: nan, 2: '8:00-9:30', 3: '12:30-14:00', 4: '9:30-11:00'}"
      ]
     },
     "execution_count": 99,
     "metadata": {},
     "output_type": "execute_result"
    }
   ],
   "source": [
    "datos_dict = df.to_dict()\n",
    "datos_dict['Lunes']"
   ]
  },
  {
   "cell_type": "markdown",
   "metadata": {},
   "source": [
    "## Actividad 2:\n",
    "Crear una función que nos detecte si hay traslapes de materias por día.\n",
    "Entrada:\n",
    "\n",
    "\\>> {0: '9:00-10:30', 1: nan, 2: '8:00-9:30', 3: '12:30-14:00', 4: '9:30-11:00'} \n",
    "\n",
    "Salida:\n",
    "\n",
    "\\>> 'Hay un traslape a las 9:00'"
   ]
  },
  {
   "cell_type": "code",
   "execution_count": 2,
   "metadata": {},
   "outputs": [],
   "source": [
    "def actividad2(datos_dict_lunes):\n",
    "    '''\n",
    "    Aquí empieza a escribir la actividad. Importante no cambiar el nombre a la función.\n",
    "    '''\n",
    "    return 0"
   ]
  },
  {
   "cell_type": "code",
   "execution_count": null,
   "metadata": {},
   "outputs": [],
   "source": [
    "traslapes = []\n",
    "\n",
    "for posicion1 in range(5):\n",
    "    for posicion2 in range(posicion1+1,5):\n",
    "        valor1 = list(datos_dict['Lunes'].values())[posicion1]\n",
    "        valor2 = list(datos_dict['Lunes'].values())[posicion2]\n",
    "        if type(valor1) == str and type(valor2) == str :\n",
    "            #print('Comparando: ')\n",
    "            inicio1, final1 = valor1.split('-')[0].split(':'), valor1.split('-')[1].split(':')\n",
    "            hora_inicio1 = int(inicio1[0])+ int(inicio1[1])/60\n",
    "            hora_final1 = int(final1[0])+ int(final1[1])/60\n",
    "            \n",
    "            inicio2, final2 = valor2.split('-')[0].split(':'), valor2.split('-')[1].split(':')\n",
    "            hora_inicio2 = int(inicio2[0])+ int(inicio2[1])/60\n",
    "            hora_final2 = int(final2[0])+ int(final2[1])/60\n",
    "            \n",
    "            if (hora_inicio1 >= hora_inicio2 and hora_inicio1 < hora_final2) or (hora_inicio2 >= hora_inicio1 and hora_inicio2 < hora_final1):\n",
    "                print('Hay un traslape en', valor1)"
   ]
  },
  {
   "cell_type": "markdown",
   "metadata": {},
   "source": [
    "## Una herramienta para nuestra navaja suiza como ingenieros de datos "
   ]
  },
  {
   "cell_type": "markdown",
   "metadata": {},
   "source": [
    "Vamos a crear un Bot de instagram con la librería *instabot*. Por ahora sólo obtendremos los seguidores de una cuenta, pero la librería te premite hacer más cosas como publicar fotos, dar likes y hasta seguir personas. Puedes ver la documentación [aquí](https://instagrambot.github.io/docs/en/For_developers.html)."
   ]
  },
  {
   "cell_type": "code",
   "execution_count": null,
   "metadata": {},
   "outputs": [],
   "source": [
    "!pip install instabot #Par instalar la librería con pip"
   ]
  },
  {
   "cell_type": "code",
   "execution_count": null,
   "metadata": {},
   "outputs": [],
   "source": [
    "from instabot import Bot"
   ]
  },
  {
   "cell_type": "code",
   "execution_count": 3,
   "metadata": {},
   "outputs": [],
   "source": [
    "import credenciales"
   ]
  },
  {
   "cell_type": "code",
   "execution_count": null,
   "metadata": {},
   "outputs": [],
   "source": [
    "bot = Bot()\n",
    "bot.login(username=\"\", password=\"\") #Ingresamos nuestro usuario y contraseña"
   ]
  },
  {
   "cell_type": "markdown",
   "metadata": {},
   "source": [
    "Cada usuario de instagram aparte de tener un username también tiene un id, necesitamos conseguir eso con el método **get_user_id_from_username()** en donde ingresarémos como parámetro el username de algún usuariopara ver su información."
   ]
  },
  {
   "cell_type": "code",
   "execution_count": null,
   "metadata": {},
   "outputs": [],
   "source": [
    "user_id = bot.get_user_id_from_username(\"\") \n",
    "\n",
    "user_info = bot.get_user_info(user_id) #nos regresará un diccionario\n",
    "print(user_info['biography'])"
   ]
  },
  {
   "cell_type": "markdown",
   "metadata": {},
   "source": [
    "Para obtener los seguidores del usuario utilizaremos el método **get_user_followers()** ingresando como parametro el id. Nos regresará una lista con ids.  "
   ]
  },
  {
   "cell_type": "code",
   "execution_count": null,
   "metadata": {},
   "outputs": [],
   "source": [
    "users_ids = bot.get_user_followers(user_id) "
   ]
  },
  {
   "cell_type": "markdown",
   "metadata": {},
   "source": [
    "Para obtener los usernames apartir de los ids utilizaremos **get_username_from_user_id()**."
   ]
  },
  {
   "cell_type": "code",
   "execution_count": null,
   "metadata": {},
   "outputs": [],
   "source": [
    "for user_id in users_ids:\n",
    "    print(bot.get_username_from_user_id(user_id))"
   ]
  }
 ],
 "metadata": {
  "colab": {
   "name": "Clase 001 | EXTRACT - Lectura de archivos.ipynb",
   "provenance": []
  },
  "kernelspec": {
   "display_name": "Python 3",
   "language": "python",
   "name": "python3"
  },
  "language_info": {
   "codemirror_mode": {
    "name": "ipython",
    "version": 3
   },
   "file_extension": ".py",
   "mimetype": "text/x-python",
   "name": "python",
   "nbconvert_exporter": "python",
   "pygments_lexer": "ipython3",
   "version": "3.8.3"
  }
 },
 "nbformat": 4,
 "nbformat_minor": 1
}
